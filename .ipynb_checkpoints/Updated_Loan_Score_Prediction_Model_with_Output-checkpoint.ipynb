{
 "cells": [
  {
   "cell_type": "markdown",
   "id": "b4e98d7f",
   "metadata": {},
   "source": [
    "# Loan Score Prediction Model"
   ]
  },
  {
   "cell_type": "code",
   "execution_count": null,
   "id": "bff511af",
   "metadata": {},
   "outputs": [],
   "source": [
    "\n",
    "import pandas as pd\n",
    "import xgboost as xg\n",
    "from sklearn.metrics import classification_report, confusion_matrix, ConfusionMatrixDisplay\n",
    "from sklearn.model_selection import train_test_split, cross_val_score\n",
    "from sklearn.preprocessing import LabelEncoder\n",
    "from sklearn.ensemble import RandomForestClassifier\n",
    "import matplotlib.pyplot as plt\n",
    "%matplotlib inline\n"
   ]
  },
  {
   "cell_type": "code",
   "execution_count": null,
   "id": "94cf47d6",
   "metadata": {},
   "outputs": [],
   "source": [
    "\n",
    "# Load datasets\n",
    "test_data_1 = pd.read_csv('/mnt/data/Test data.xlsx - Query result.csv', encoding='latin1')\n",
    "test_data_2 = pd.read_csv('/mnt/data/Model test data.csv', encoding='latin1')\n",
    "loan_status_data = pd.read_csv('/mnt/data/Loan Status prediction data.xlsx - Query result.csv', encoding='latin1')\n",
    "\n",
    "# Display the first few rows of each dataframe\n",
    "print(\"Test Data 1:\")\n",
    "print(test_data_1.head())\n",
    "print(\"\\nTest Data 2:\")\n",
    "print(test_data_2.head())\n",
    "print(\"\\nLoan Status Data:\")\n",
    "print(loan_status_data.head())\n"
   ]
  },
  {
   "cell_type": "code",
   "execution_count": null,
   "id": "f3ee5e70",
   "metadata": {},
   "outputs": [],
   "source": [
    "\n",
    "# Data preprocessing steps\n",
    "def preprocess_data(df):\n",
    "    # Example preprocessing steps\n",
    "    # Handle missing values\n",
    "    df = df.fillna(method='ffill')\n",
    "\n",
    "    # Encode categorical variables\n",
    "    le = LabelEncoder()\n",
    "    for column in df.select_dtypes(include=['object']).columns:\n",
    "        df[column] = le.fit_transform(df[column].astype(str))\n",
    "    \n",
    "    return df\n",
    "\n",
    "# Preprocess the datasets\n",
    "test_data_1 = preprocess_data(test_data_1)\n",
    "test_data_2 = preprocess_data(test_data_2)\n",
    "loan_status_data = preprocess_data(loan_status_data)\n",
    "\n",
    "# Display the first few rows of the preprocessed data\n",
    "print(\"Preprocessed Test Data 1:\")\n",
    "print(test_data_1.head())\n",
    "print(\"\\nPreprocessed Test Data 2:\")\n",
    "print(test_data_2.head())\n",
    "print(\"\\nPreprocessed Loan Status Data:\")\n",
    "print(loan_status_data.head())\n"
   ]
  },
  {
   "cell_type": "code",
   "execution_count": null,
   "id": "23d20401",
   "metadata": {},
   "outputs": [],
   "source": [
    "\n",
    "# Example model training and evaluation\n",
    "X = loan_status_data.drop('status_id', axis=1)\n",
    "y = loan_status_data['status_id']\n",
    "\n",
    "# Split the data\n",
    "X_train, X_test, y_train, y_test = train_test_split(X, y, test_size=0.3, random_state=42)\n",
    "\n",
    "# Initialize and train the model\n",
    "model = RandomForestClassifier(n_estimators=100, random_state=42)\n",
    "model.fit(X_train, y_train)\n",
    "\n",
    "# Make predictions\n",
    "y_pred = model.predict(X_test)\n",
    "\n",
    "# Evaluate the model\n",
    "print(\"Classification Report:\")\n",
    "print(classification_report(y_test, y_pred))\n",
    "cm = confusion_matrix(y_test, y_pred)\n",
    "disp = ConfusionMatrixDisplay(confusion_matrix=cm)\n",
    "disp.plot()\n",
    "plt.show()\n"
   ]
  },
  {
   "cell_type": "code",
   "execution_count": null,
   "id": "587edfbc",
   "metadata": {},
   "outputs": [],
   "source": [
    "\n",
    "# Update the output labels\n",
    "y_pred_labels = ['Paid' if x == 2 else 'Unpaid' for x in y_pred]\n",
    "\n",
    "# Create a DataFrame with the results\n",
    "results = X_test.copy()\n",
    "results['Predicted Status'] = y_pred_labels\n",
    "results['Actual Status'] = ['Paid' if x == 2 else 'Unpaid' for x in y_test]\n",
    "\n",
    "# Save the results to a CSV file\n",
    "results.to_csv('/mnt/data/loan_status_predictions.csv', index=False)\n",
    "print(\"Results saved to loan_status_predictions.csv\")\n"
   ]
  }
 ],
 "metadata": {},
 "nbformat": 4,
 "nbformat_minor": 5
}
