{
 "cells": [
  {
   "cell_type": "code",
   "execution_count": null,
   "id": "35044c39-4483-4478-88f6-4580a35e24d4",
   "metadata": {},
   "outputs": [],
   "source": [
    "#Create model encoder for flask app"
   ]
  },
  {
   "cell_type": "code",
   "execution_count": 1,
   "id": "db87083b-96b6-4c44-b87c-160c84c32577",
   "metadata": {},
   "outputs": [
    {
     "data": {
      "text/plain": [
       "['label_encoder.pkl']"
      ]
     },
     "execution_count": 1,
     "metadata": {},
     "output_type": "execute_result"
    }
   ],
   "source": [
    "import joblib\n",
    "import pandas as pd\n",
    "from sklearn.preprocessing import LabelEncoder\n",
    "\n",
    "# Load your dataset\n",
    "data = pd.read_csv('Test data.xlsx - Query result.csv', encoding='latin1')\n",
    "\n",
    "# Fit the LabelEncoder on the categorical columns\n",
    "encoder = LabelEncoder()\n",
    "for column in data.select_dtypes(include=['object']).columns:\n",
    "    data[column] = encoder.fit_transform(data[column].astype(str))\n",
    "\n",
    "# Save the encoder\n",
    "encoder_path = 'label_encoder.pkl'\n",
    "joblib.dump(encoder, encoder_path)\n"
   ]
  },
  {
   "cell_type": "code",
   "execution_count": null,
   "id": "51e077c0-64ad-4528-b0cb-077b6659c4e4",
   "metadata": {},
   "outputs": [],
   "source": [
    "#Create model pk1 file (combines logistic regression + XGBoost)"
   ]
  },
  {
   "cell_type": "code",
   "execution_count": 2,
   "id": "44a105dc-6528-489f-aebb-28d3a935840e",
   "metadata": {},
   "outputs": [
    {
     "name": "stdout",
     "output_type": "stream",
     "text": [
      "XGBoost Model: XGBClassifier(base_score=None, booster=None, callbacks=None,\n",
      "              colsample_bylevel=None, colsample_bynode=None,\n",
      "              colsample_bytree=None, device=None, early_stopping_rounds=None,\n",
      "              enable_categorical=False, eval_metric=None, feature_types=None,\n",
      "              gamma=None, grow_policy=None, importance_type=None,\n",
      "              interaction_constraints=None, learning_rate=None, max_bin=None,\n",
      "              max_cat_threshold=None, max_cat_to_onehot=None,\n",
      "              max_delta_step=None, max_depth=None, max_leaves=None,\n",
      "              min_child_weight=None, missing=nan, monotone_constraints=None,\n",
      "              multi_strategy=None, n_estimators=None, n_jobs=None,\n",
      "              num_parallel_tree=None, objective='multi:softprob', ...)\n",
      "Logistic Regression Model: LogisticRegression(max_iter=200)\n"
     ]
    }
   ],
   "source": [
    "import joblib\n",
    "from xgboost import XGBClassifier\n",
    "from sklearn.linear_model import LogisticRegression\n",
    "from sklearn.datasets import load_iris\n",
    "from sklearn.model_selection import train_test_split\n",
    "\n",
    "# Load dataset\n",
    "data = load_iris()\n",
    "X, y = data.data, data.target\n",
    "\n",
    "# Split the data\n",
    "X_train, X_test, y_train, y_test = train_test_split(X, y, test_size=0.3, random_state=42)\n",
    "\n",
    "# Train the XGBoost model\n",
    "xgb_model = XGBClassifier()\n",
    "xgb_model.fit(X_train, y_train)\n",
    "\n",
    "# Train the Logistic Regression model\n",
    "lr_model = LogisticRegression(max_iter=200)\n",
    "lr_model.fit(X_train, y_train)\n",
    "\n",
    "# Create a dictionary to store both models\n",
    "models = {\n",
    "    'xgboost': xgb_model,\n",
    "    'logistic_regression': lr_model\n",
    "}\n",
    "\n",
    "# Save both models in one file\n",
    "joblib.dump(models, 'combined_models.pkl')\n",
    "\n",
    "# Load the models from the file to verify\n",
    "loaded_models = joblib.load('combined_models.pkl')\n",
    "xgb_loaded_model = loaded_models['xgboost']\n",
    "lr_loaded_model = loaded_models['logistic_regression']\n",
    "\n",
    "# Check if the models are loaded correctly\n",
    "print(\"XGBoost Model:\", xgb_loaded_model)\n",
    "print(\"Logistic Regression Model:\", lr_loaded_model)\n"
   ]
  },
  {
   "cell_type": "code",
   "execution_count": null,
   "id": "c61bf427-9089-4032-9a58-ec754a882b6e",
   "metadata": {},
   "outputs": [],
   "source": []
  }
 ],
 "metadata": {
  "kernelspec": {
   "display_name": "Python 3 (ipykernel)",
   "language": "python",
   "name": "python3"
  },
  "language_info": {
   "codemirror_mode": {
    "name": "ipython",
    "version": 3
   },
   "file_extension": ".py",
   "mimetype": "text/x-python",
   "name": "python",
   "nbconvert_exporter": "python",
   "pygments_lexer": "ipython3",
   "version": "3.10.13"
  }
 },
 "nbformat": 4,
 "nbformat_minor": 5
}
